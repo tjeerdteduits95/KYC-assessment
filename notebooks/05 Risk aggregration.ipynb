{
 "cells": [
  {
   "cell_type": "code",
   "execution_count": 0,
   "metadata": {
    "application/vnd.databricks.v1+cell": {
     "cellMetadata": {},
     "inputWidgets": {},
     "nuid": "61d29781-f05f-4489-bff0-aaf4519b6ce1",
     "showTitle": false,
     "tableResultSettingsMap": {},
     "title": ""
    }
   },
   "outputs": [],
   "source": [
    "# Create schema (bronze) if not exists\n",
    "spark.sql(\"CREATE SCHEMA IF NOT EXISTS gold\")\n",
    "\n",
    "spark.sql(\"SELECT current_catalog(), current_database()\").show()"
   ]
  },
  {
   "cell_type": "code",
   "execution_count": 0,
   "metadata": {
    "application/vnd.databricks.v1+cell": {
     "cellMetadata": {
      "byteLimit": 2048000,
      "implicitDf": true,
      "rowLimit": 10000
     },
     "inputWidgets": {},
     "nuid": "20fe8ea3-7740-488d-a9fa-1580633bfd95",
     "showTitle": false,
     "tableResultSettingsMap": {},
     "title": ""
    }
   },
   "outputs": [],
   "source": [
    "%sql\n",
    "CREATE VOLUME if not exists workspace.default.output "
   ]
  },
  {
   "cell_type": "code",
   "execution_count": 0,
   "metadata": {
    "application/vnd.databricks.v1+cell": {
     "cellMetadata": {
      "byteLimit": 2048000,
      "rowLimit": 10000
     },
     "inputWidgets": {},
     "nuid": "6680142c-eafe-4dc2-8d4c-38af97e80cbd",
     "showTitle": false,
     "tableResultSettingsMap": {},
     "title": ""
    }
   },
   "outputs": [],
   "source": [
    "from pyspark.sql.functions import col, array, lit, size, collect_set, concat_ws, nullif, when\n",
    "\n",
    "clients = spark.table(\"silver.clients_enriched\")\n",
    "risk_events = spark.table(\"silver.risk_events\")\n",
    "model_outputs = spark.table(\"silver.model_outputs\")\n",
    "\n",
    "# Combine rule-based flags\n",
    "risk_summary = (\n",
    "    risk_events\n",
    "    .groupBy(\"client_id\")\n",
    "    .agg(concat_ws(\"\", collect_set(\"trigger_reason_1\")).alias(\"rule_triggers_1\"),\n",
    "        concat_ws(\"\", collect_set(\"trigger_reason_2\")).alias(\"rule_triggers_2\"),\n",
    "        concat_ws(\"\", collect_set(\"trigger_reason_3\")).alias(\"rule_triggers_3\"),\n",
    "        concat_ws(\"\", collect_set(\"trigger_reason_4\")).alias(\"rule_triggers_4\"))\n",
    ")\n",
    "\n",
    "risk_summary=risk_summary.select([when(col(c)==\"\", None).otherwise(col(c)).alias(c) for c in risk_summary.columns])\n",
    "risk_summary = risk_summary.withColumn(\"triggered_risk_events\", concat_ws(\", \", col(\"rule_triggers_1\"), col(\"rule_triggers_2\"), col(\"rule_triggers_3\"), col(\"rule_triggers_4\")))"
   ]
  },
  {
   "cell_type": "code",
   "execution_count": 0,
   "metadata": {
    "application/vnd.databricks.v1+cell": {
     "cellMetadata": {
      "byteLimit": 2048000,
      "rowLimit": 10000
     },
     "inputWidgets": {},
     "nuid": "f7df3640-6885-4924-a352-7c80003751e1",
     "showTitle": false,
     "tableResultSettingsMap": {},
     "title": ""
    }
   },
   "outputs": [],
   "source": [
    "# Merge all\n",
    "final_risk_df = (\n",
    "    clients\n",
    "    .join(risk_summary, on=\"client_id\", how=\"left\")\n",
    "    .join(model_outputs.select(\"client_id\", \"output_value\"), on=\"client_id\", how=\"left\")\n",
    "    .withColumn(\"flagged\", (col(\"output_value\") == 1) | col(\"triggered_risk_events\").isNotNull())\n",
    ")\n",
    "\n",
    "# Write final output\n",
    "final_risk_df.write.mode(\"overwrite\").option(\"header\", \"true\").format(\"csv\").save(\"/Volumes/workspace/default/output/client_risk_scores\")\n",
    "\n",
    "# Optional: save as table\n",
    "final_risk_df.write.mode(\"overwrite\").saveAsTable(\"gold.client_risk_scores\")"
   ]
  }
 ],
 "metadata": {
  "application/vnd.databricks.v1+notebook": {
   "computePreferences": {
    "hardware": {
     "accelerator": null,
     "gpuPoolId": null,
     "memory": null
    }
   },
   "dashboards": [],
   "environmentMetadata": {
    "base_environment": "",
    "environment_version": "2"
   },
   "inputWidgetPreferences": null,
   "language": "python",
   "notebookMetadata": {
    "mostRecentlyExecutedCommandWithImplicitDF": {
     "commandId": 5685711421770578,
     "dataframes": [
      "_sqldf"
     ]
    },
    "pythonIndentUnit": 4
   },
   "notebookName": "05 Risk aggregration",
   "widgets": {}
  },
  "language_info": {
   "name": "python"
  }
 },
 "nbformat": 4,
 "nbformat_minor": 0
}
