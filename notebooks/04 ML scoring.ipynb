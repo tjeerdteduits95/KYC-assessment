{
 "cells": [
  {
   "cell_type": "code",
   "execution_count": 0,
   "metadata": {
    "application/vnd.databricks.v1+cell": {
     "cellMetadata": {
      "byteLimit": 2048000,
      "rowLimit": 10000
     },
     "inputWidgets": {},
     "nuid": "c37651fa-ed12-4cab-845b-cc23f827ce9b",
     "showTitle": false,
     "tableResultSettingsMap": {},
     "title": ""
    }
   },
   "outputs": [],
   "source": [
    "from pyspark.ml.feature import VectorAssembler\n",
    "from sklearn.ensemble import IsolationForest\n",
    "from pyspark.ml.clustering import BisectingKMeans  # Use IsolationForest if available\n",
    "from pyspark.sql.functions import col, when, lit, current_timestamp, array\n",
    "\n",
    "transactions = spark.table(\"silver.transactions_enriched\")\n",
    "\n",
    "# Aggregate features per client\n",
    "features_df = (\n",
    "    transactions.groupBy(\"client_id\")\n",
    "    .agg(\n",
    "        {\"transaction_amount\": \"avg\", \"transaction_id\": \"count\", \"rolling_txn_count_30d\": \"max\", \"rolling_txn_sum_30d\": \"max\"}\n",
    "    )\n",
    "    .withColumnRenamed(\"avg(transaction_amount)\", \"avg_txn_amount\")\n",
    "    .withColumnRenamed(\"count(transaction_id)\", \"txn_count\")\n",
    "    .withColumnRenamed(\"max(rolling_txn_count_30d)\", \"max_rw_count\")\n",
    "    .withColumnRenamed(\"max(rolling_txn_sum_30d)\", \"max_rw_sum\")\n",
    ")\n",
    "\n",
    "# 3. Convert to pandas for scikit-learn\n",
    "features_pd = features_df.toPandas()\n",
    "features_pd = features_pd.fillna(0)  # Handle any nulls\n",
    "\n",
    "# 4. Train Isolation Forest\n",
    "model = IsolationForest(contamination=0.05, random_state=42)\n",
    "features = features_pd[[\"avg_txn_amount\", \"txn_count\", \"max_rw_count\", \"max_rw_sum\"]]\n",
    "features_pd[\"ml_risk_score\"] = model.fit_predict(features)\n",
    "\n",
    "# Convert sklearn output: -1 = anomaly, 1 = normal\n",
    "features_pd[\"ml_risk_score\"] = features_pd[\"ml_risk_score\"].map({1: 0, -1: 1})\n",
    "features_pd[\"ml_anomaly_score\"] = -model.decision_function(features)\n",
    "\n",
    "# 5. Convert back to Spark\n",
    "scored_df = spark.createDataFrame(features_pd[[\"client_id\", \"ml_risk_score\", \"ml_anomaly_score\"]]).withColumnRenamed(\"ml_risk_score\", \"output_value\").withColumnRenamed(\"ml_anomaly_score\", \"confidence_level\")\n",
    "scored_df = scored_df.withColumn(\"model_name\", lit(\"Isolation forest\")).withColumn(\"output_type\", lit(\"anomaly_score\")).withColumn(\"evaluated_at\", current_timestamp())\n",
    "\n",
    "scored_df.write.mode(\"overwrite\").saveAsTable(\"silver.model_outputs\")"
   ]
  }
 ],
 "metadata": {
  "application/vnd.databricks.v1+notebook": {
   "computePreferences": null,
   "dashboards": [],
   "environmentMetadata": {
    "base_environment": "",
    "environment_version": "2"
   },
   "inputWidgetPreferences": null,
   "language": "python",
   "notebookMetadata": {
    "mostRecentlyExecutedCommandWithImplicitDF": {
     "commandId": 5221604755488310,
     "dataframes": [
      "_sqldf"
     ]
    },
    "pythonIndentUnit": 4
   },
   "notebookName": "04 ML scoring",
   "widgets": {}
  },
  "language_info": {
   "name": "python"
  }
 },
 "nbformat": 4,
 "nbformat_minor": 0
}
