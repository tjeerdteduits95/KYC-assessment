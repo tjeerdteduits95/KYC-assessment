{
 "cells": [
  {
   "cell_type": "code",
   "execution_count": 0,
   "metadata": {
    "application/vnd.databricks.v1+cell": {
     "cellMetadata": {
      "byteLimit": 2048000,
      "rowLimit": 10000
     },
     "inputWidgets": {},
     "nuid": "3bfcb339-d71b-4ca5-b4e5-d7e12123b7a7",
     "showTitle": false,
     "tableResultSettingsMap": {},
     "title": ""
    }
   },
   "outputs": [],
   "source": [
    "# Create schema (bronze) if not exists\n",
    "spark.sql(\"CREATE SCHEMA IF NOT EXISTS bronze\")\n",
    "\n",
    "spark.sql(\"SELECT current_catalog(), current_database()\").show()"
   ]
  },
  {
   "cell_type": "code",
   "execution_count": 0,
   "metadata": {
    "application/vnd.databricks.v1+cell": {
     "cellMetadata": {
      "byteLimit": 2048000,
      "rowLimit": 10000
     },
     "inputWidgets": {},
     "nuid": "7e2a71af-a2e1-46e1-b0b5-2ae0f4252e08",
     "showTitle": false,
     "tableResultSettingsMap": {},
     "title": ""
    }
   },
   "outputs": [],
   "source": [
    "clients_df = spark.read.options(header=\"true\", inferSchema=\"true\").csv(\"dbfs:/Volumes/workspace/default/source/clients/\")\n",
    "transactions_df = spark.read.options(header=\"true\", inferSchema=\"true\").csv(\"dbfs:/Volumes/workspace/default/source/transactions/\")\n",
    "aml_risk_df = spark.read.options(header=\"true\", inferSchema=\"true\").csv(\"dbfs:/Volumes/workspace/default/source/aml_risk_df/\")\n",
    "\n",
    "clients_df.limit(3).display()\n",
    "transactions_df.limit(3).display()\n",
    "aml_risk_df.limit(3).display()"
   ]
  },
  {
   "cell_type": "code",
   "execution_count": 0,
   "metadata": {
    "application/vnd.databricks.v1+cell": {
     "cellMetadata": {
      "byteLimit": 2048000,
      "rowLimit": 10000
     },
     "inputWidgets": {},
     "nuid": "daf8de29-e4ef-44f4-9747-756aed71452a",
     "showTitle": false,
     "tableResultSettingsMap": {},
     "title": ""
    }
   },
   "outputs": [],
   "source": [
    "# Write to bronze tables\n",
    "clients_df.write.mode(\"overwrite\").saveAsTable(\"bronze.clients\")\n",
    "transactions_df.write.mode(\"overwrite\").saveAsTable(\"bronze.transactions\")\n",
    "aml_risk_df.write.mode(\"overwrite\").saveAsTable(\"bronze.aml_risk_score\")"
   ]
  }
 ],
 "metadata": {
  "application/vnd.databricks.v1+notebook": {
   "computePreferences": {
    "hardware": {
     "accelerator": null,
     "gpuPoolId": null,
     "memory": null
    }
   },
   "dashboards": [],
   "environmentMetadata": {
    "base_environment": "",
    "environment_version": "2"
   },
   "inputWidgetPreferences": null,
   "language": "python",
   "notebookMetadata": {
    "mostRecentlyExecutedCommandWithImplicitDF": {
     "commandId": 5685711421770562,
     "dataframes": [
      "_sqldf"
     ]
    },
    "pythonIndentUnit": 4
   },
   "notebookName": "01 Ingest data",
   "widgets": {}
  },
  "language_info": {
   "name": "python"
  }
 },
 "nbformat": 4,
 "nbformat_minor": 0
}
