{
 "cells": [
  {
   "cell_type": "code",
   "execution_count": 0,
   "metadata": {
    "application/vnd.databricks.v1+cell": {
     "cellMetadata": {
      "byteLimit": 2048000,
      "rowLimit": 10000
     },
     "inputWidgets": {},
     "nuid": "8b5ceb93-a817-4221-a563-f52dd1b95adc",
     "showTitle": false,
     "tableResultSettingsMap": {},
     "title": ""
    }
   },
   "outputs": [],
   "source": [
    "from pyspark.sql.functions import col, when, lit, current_timestamp, array\n",
    "\n",
    "transactions = spark.table(\"silver.transactions_enriched\")\n",
    "clients = spark.table(\"silver.clients_enriched\")"
   ]
  },
  {
   "cell_type": "code",
   "execution_count": 0,
   "metadata": {
    "application/vnd.databricks.v1+cell": {
     "cellMetadata": {
      "byteLimit": 2048000,
      "rowLimit": 10000
     },
     "inputWidgets": {},
     "nuid": "aa2fb3c2-3253-40f2-b16d-b39fb0857afc",
     "showTitle": false,
     "tableResultSettingsMap": {},
     "title": ""
    }
   },
   "outputs": [],
   "source": [
    "# Rule flags\n",
    "transactions = transactions.withColumn(\n",
    "    \"rule_high_amount\", col(\"transaction_amount\") > 10000\n",
    ")\n",
    "transactions = transactions.withColumn(\n",
    "    \"rule_high_risk_counterparty\", col(\"aml_risk_score_counterparty\") == \"High\"\n",
    ")\n",
    "transactions = transactions.withColumn(\n",
    "    \"rule_rw_count\", col(\"rolling_txn_count_30d\") >= 10\n",
    ")\n",
    "transactions = transactions.withColumn(\"rule_rw_sum\", col(\"rolling_txn_sum_30d\") >= 50000)\n",
    "\n",
    "# Save risk events\n",
    "risk_events = (\n",
    "    transactions.filter(\n",
    "        col(\"rule_high_amount\")\n",
    "        | col(\"rule_high_risk_counterparty\")\n",
    "        | col(\"rule_rw_count\")\n",
    "        | col(\"rule_rw_sum\")\n",
    "    )\n",
    "    .select(\n",
    "        col(\"transaction_id\"),\n",
    "        col(\"client_id\"),\n",
    "        when(col(\"rule_high_amount\"), lit(\"high_amount\"))\n",
    "        .otherwise(None)\n",
    "        .alias(\"trigger_reason_1\"),\n",
    "        when(col(\"rule_high_risk_counterparty\"), lit(\"high_risk_counterparty\"))\n",
    "        .otherwise(None)\n",
    "        .alias(\"trigger_reason_2\"),\n",
    "        when(col(\"rule_rw_count\"), lit(\"rw_count\"))\n",
    "        .otherwise(None)\n",
    "        .alias(\"trigger_reason_3\"),\n",
    "        when(col(\"rule_rw_sum\"), lit(\"rw_sum\"))\n",
    "        .otherwise(None)\n",
    "        .alias(\"trigger_reason_4\"),\n",
    "    )).withColumn(\"evaluated_at\", current_timestamp())\n",
    "\n",
    "    # .withColumn(\n",
    "    #     \"trigger_reasons\",\n",
    "    #     array(\n",
    "    #         when(col(\"trigger_reason_1\"), lit(\"high_amount\")),\n",
    "    #         when(col(\"trigger_reason_2\"), lit(\"high_risk_counterparty\")),\n",
    "    #         when(col(\"trigger_reason_3\"), lit(\"rw_count\")),\n",
    "    #         when(col(\"trigger_reason_4\"), lit(\"rw_sum\")),\n",
    "    #     ),\n",
    "    # )"
   ]
  },
  {
   "cell_type": "code",
   "execution_count": 0,
   "metadata": {
    "application/vnd.databricks.v1+cell": {
     "cellMetadata": {
      "byteLimit": 2048000,
      "rowLimit": 10000
     },
     "inputWidgets": {},
     "nuid": "0500f836-144d-48d9-9254-e70e48b56e9a",
     "showTitle": false,
     "tableResultSettingsMap": {},
     "title": ""
    }
   },
   "outputs": [],
   "source": [
    "risk_events.write.mode(\"overwrite\").saveAsTable(\"silver.risk_events\")"
   ]
  }
 ],
 "metadata": {
  "application/vnd.databricks.v1+notebook": {
   "computePreferences": {
    "hardware": {
     "accelerator": null,
     "gpuPoolId": null,
     "memory": null
    }
   },
   "dashboards": [],
   "environmentMetadata": {
    "base_environment": "",
    "environment_version": "2"
   },
   "inputWidgetPreferences": null,
   "language": "python",
   "notebookMetadata": {
    "pythonIndentUnit": 4
   },
   "notebookName": "03 Rule scoring",
   "widgets": {}
  },
  "language_info": {
   "name": "python"
  }
 },
 "nbformat": 4,
 "nbformat_minor": 0
}
